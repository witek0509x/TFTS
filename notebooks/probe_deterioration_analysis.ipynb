{
 "cells": [
  {
   "cell_type": "code",
   "id": "initial_id",
   "metadata": {
    "collapsed": true,
    "ExecuteTime": {
     "end_time": "2024-11-07T20:11:33.718461Z",
     "start_time": "2024-11-07T20:11:29.352781Z"
    }
   },
   "source": [
    "from generators.brownian_motion_generator import BrownianMotionDataset\n",
    "from generators.poisson_process_generator import PoissonProcessDataset\n",
    "from models.vanilla_transformer import TransformerModel\n",
    "from probes.linear_probe import LinearProbe\n",
    "import matplotlib.pyplot as plt\n",
    "from sklearn.metrics import r2_score\n",
    "\n",
    "\n",
    "checkpoint_path = \"/home/wojciech/private/magisterka/TFTS/training/transformer_stochastic_processes/8m8gd9lj/checkpoints/transformer-epoch=996-val_loss=0.10.ckpt\"\n",
    "\n",
    "# Load the trained model\n",
    "model = TransformerModel.load_from_checkpoint(checkpoint_path)"
   ],
   "outputs": [
    {
     "name": "stderr",
     "output_type": "stream",
     "text": [
      "/home/wojciech/anaconda3/envs/TFTS/lib/python3.10/site-packages/torch/nn/modules/transformer.py:307: UserWarning: enable_nested_tensor is True, but self.use_nested_tensor is False because encoder_layer.self_attn.batch_first was not True(use batch_first for better inference performance)\n",
      "  warnings.warn(f\"enable_nested_tensor is True, but self.use_nested_tensor is False because {why_not_sparsity_fast_path}\")\n"
     ]
    }
   ],
   "execution_count": 1
  },
  {
   "metadata": {
    "ExecuteTime": {
     "end_time": "2024-11-07T20:24:35.562569Z",
     "start_time": "2024-11-07T20:19:10.135240Z"
    }
   },
   "cell_type": "code",
   "source": [
    "means_scores = []\n",
    "std_scores = []\n",
    "for i in range(20):\n",
    "    # Create the DataLoader for evaluation\n",
    "    val_loader = BrownianMotionDataset(batch_size=16, series_length=1000, subseries_length=50, stride=50, intensity_count=100, ranges={\"means\": (-i*2, i*2), \"std\": (0.5, 10)}).get_dataloader()\n",
    "    # Initialize the linear probe with the transformer model\n",
    "    probe = LinearProbe(model_path=checkpoint_path, input_dim=128, output_dim=2)  # Assuming `d_model` is 128\n",
    "    # Fine-tune the linear probe using the training data (optional)\n",
    "    # If needed, create a train_loader like val_loader and call finetune\n",
    "    train_loader = BrownianMotionDataset(batch_size=16, series_length=1000, subseries_length=50, stride=50, intensity_count=500).get_dataloader()\n",
    "    probe.finetune(train_loader, num_epochs=10)\n",
    "    val_loss, predictions, labels = probe.evaluate(val_loader)\n",
    "    means_scores.append(r2_score(labels[:, 0], predictions[:, 0]))\n",
    "    std_scores.append(r2_score(labels[:, 1], predictions[:, 1]))"
   ],
   "id": "9b6955ccbf4137c1",
   "outputs": [
    {
     "name": "stderr",
     "output_type": "stream",
     "text": [
      "/home/wojciech/anaconda3/envs/TFTS/lib/python3.10/site-packages/torch/nn/modules/transformer.py:307: UserWarning: enable_nested_tensor is True, but self.use_nested_tensor is False because encoder_layer.self_attn.batch_first was not True(use batch_first for better inference performance)\n",
      "  warnings.warn(f\"enable_nested_tensor is True, but self.use_nested_tensor is False because {why_not_sparsity_fast_path}\")\n"
     ]
    },
    {
     "name": "stdout",
     "output_type": "stream",
     "text": [
      "Probe device: cuda:0\n",
      "Transformer device: cuda:0\n",
      "Epoch 1/10 - Loss: 13.8805\n",
      "Epoch 2/10 - Loss: 9.8998\n",
      "Epoch 3/10 - Loss: 7.1025\n",
      "Epoch 4/10 - Loss: 5.2212\n",
      "Epoch 5/10 - Loss: 3.9979\n",
      "Epoch 6/10 - Loss: 3.2363\n",
      "Epoch 7/10 - Loss: 2.7450\n",
      "Epoch 8/10 - Loss: 2.4567\n",
      "Epoch 9/10 - Loss: 2.2606\n",
      "Epoch 10/10 - Loss: 2.1344\n",
      "Validation MSE: 2.3899\n",
      "Probe device: cuda:0\n",
      "Transformer device: cuda:0\n"
     ]
    },
    {
     "name": "stderr",
     "output_type": "stream",
     "text": [
      "/home/wojciech/anaconda3/envs/TFTS/lib/python3.10/site-packages/torch/nn/modules/transformer.py:307: UserWarning: enable_nested_tensor is True, but self.use_nested_tensor is False because encoder_layer.self_attn.batch_first was not True(use batch_first for better inference performance)\n",
      "  warnings.warn(f\"enable_nested_tensor is True, but self.use_nested_tensor is False because {why_not_sparsity_fast_path}\")\n"
     ]
    },
    {
     "name": "stdout",
     "output_type": "stream",
     "text": [
      "Epoch 1/10 - Loss: 14.8665\n",
      "Epoch 2/10 - Loss: 10.7413\n",
      "Epoch 3/10 - Loss: 7.7477\n",
      "Epoch 4/10 - Loss: 5.7102\n",
      "Epoch 5/10 - Loss: 4.3508\n",
      "Epoch 6/10 - Loss: 3.4767\n",
      "Epoch 7/10 - Loss: 2.9203\n",
      "Epoch 8/10 - Loss: 2.5762\n",
      "Epoch 9/10 - Loss: 2.3733\n",
      "Epoch 10/10 - Loss: 2.2055\n",
      "Validation MSE: 3.2974\n",
      "Probe device: cuda:0\n",
      "Transformer device: cuda:0\n"
     ]
    },
    {
     "name": "stderr",
     "output_type": "stream",
     "text": [
      "/home/wojciech/anaconda3/envs/TFTS/lib/python3.10/site-packages/torch/nn/modules/transformer.py:307: UserWarning: enable_nested_tensor is True, but self.use_nested_tensor is False because encoder_layer.self_attn.batch_first was not True(use batch_first for better inference performance)\n",
      "  warnings.warn(f\"enable_nested_tensor is True, but self.use_nested_tensor is False because {why_not_sparsity_fast_path}\")\n"
     ]
    },
    {
     "name": "stdout",
     "output_type": "stream",
     "text": [
      "Epoch 1/10 - Loss: 15.4285\n",
      "Epoch 2/10 - Loss: 11.1159\n",
      "Epoch 3/10 - Loss: 8.0361\n",
      "Epoch 4/10 - Loss: 5.9110\n",
      "Epoch 5/10 - Loss: 4.4764\n",
      "Epoch 6/10 - Loss: 3.5573\n",
      "Epoch 7/10 - Loss: 2.9842\n",
      "Epoch 8/10 - Loss: 2.6205\n",
      "Epoch 9/10 - Loss: 2.3885\n",
      "Epoch 10/10 - Loss: 2.2371\n",
      "Validation MSE: 5.2146\n",
      "Probe device: cuda:0\n",
      "Transformer device: cuda:0\n"
     ]
    },
    {
     "name": "stderr",
     "output_type": "stream",
     "text": [
      "/home/wojciech/anaconda3/envs/TFTS/lib/python3.10/site-packages/torch/nn/modules/transformer.py:307: UserWarning: enable_nested_tensor is True, but self.use_nested_tensor is False because encoder_layer.self_attn.batch_first was not True(use batch_first for better inference performance)\n",
      "  warnings.warn(f\"enable_nested_tensor is True, but self.use_nested_tensor is False because {why_not_sparsity_fast_path}\")\n"
     ]
    },
    {
     "name": "stdout",
     "output_type": "stream",
     "text": [
      "Epoch 1/10 - Loss: 15.7426\n",
      "Epoch 2/10 - Loss: 11.4688\n",
      "Epoch 3/10 - Loss: 8.3500\n",
      "Epoch 4/10 - Loss: 6.1929\n",
      "Epoch 5/10 - Loss: 4.7402\n",
      "Epoch 6/10 - Loss: 3.7955\n",
      "Epoch 7/10 - Loss: 3.1758\n",
      "Epoch 8/10 - Loss: 2.7816\n",
      "Epoch 9/10 - Loss: 2.5228\n",
      "Epoch 10/10 - Loss: 2.3309\n",
      "Validation MSE: 9.1714\n",
      "Probe device: cuda:0\n",
      "Transformer device: cuda:0\n"
     ]
    },
    {
     "name": "stderr",
     "output_type": "stream",
     "text": [
      "/home/wojciech/anaconda3/envs/TFTS/lib/python3.10/site-packages/torch/nn/modules/transformer.py:307: UserWarning: enable_nested_tensor is True, but self.use_nested_tensor is False because encoder_layer.self_attn.batch_first was not True(use batch_first for better inference performance)\n",
      "  warnings.warn(f\"enable_nested_tensor is True, but self.use_nested_tensor is False because {why_not_sparsity_fast_path}\")\n"
     ]
    },
    {
     "name": "stdout",
     "output_type": "stream",
     "text": [
      "Epoch 1/10 - Loss: 14.4270\n",
      "Epoch 2/10 - Loss: 10.3833\n",
      "Epoch 3/10 - Loss: 7.5092\n",
      "Epoch 4/10 - Loss: 5.5307\n",
      "Epoch 5/10 - Loss: 4.2330\n",
      "Epoch 6/10 - Loss: 3.4166\n",
      "Epoch 7/10 - Loss: 2.9143\n",
      "Epoch 8/10 - Loss: 2.6078\n",
      "Epoch 9/10 - Loss: 2.3968\n",
      "Epoch 10/10 - Loss: 2.2426\n",
      "Validation MSE: 13.5569\n"
     ]
    },
    {
     "name": "stderr",
     "output_type": "stream",
     "text": [
      "/home/wojciech/anaconda3/envs/TFTS/lib/python3.10/site-packages/torch/nn/modules/transformer.py:307: UserWarning: enable_nested_tensor is True, but self.use_nested_tensor is False because encoder_layer.self_attn.batch_first was not True(use batch_first for better inference performance)\n",
      "  warnings.warn(f\"enable_nested_tensor is True, but self.use_nested_tensor is False because {why_not_sparsity_fast_path}\")\n"
     ]
    },
    {
     "name": "stdout",
     "output_type": "stream",
     "text": [
      "Probe device: cuda:0\n",
      "Transformer device: cuda:0\n",
      "Epoch 1/10 - Loss: 15.1364\n",
      "Epoch 2/10 - Loss: 10.9134\n",
      "Epoch 3/10 - Loss: 7.8934\n",
      "Epoch 4/10 - Loss: 5.8360\n",
      "Epoch 5/10 - Loss: 4.4472\n",
      "Epoch 6/10 - Loss: 3.5767\n",
      "Epoch 7/10 - Loss: 3.0130\n",
      "Epoch 8/10 - Loss: 2.6598\n",
      "Epoch 9/10 - Loss: 2.4476\n",
      "Epoch 10/10 - Loss: 2.2776\n",
      "Validation MSE: 19.9941\n",
      "Probe device: cuda:0\n",
      "Transformer device: cuda:0\n"
     ]
    },
    {
     "name": "stderr",
     "output_type": "stream",
     "text": [
      "/home/wojciech/anaconda3/envs/TFTS/lib/python3.10/site-packages/torch/nn/modules/transformer.py:307: UserWarning: enable_nested_tensor is True, but self.use_nested_tensor is False because encoder_layer.self_attn.batch_first was not True(use batch_first for better inference performance)\n",
      "  warnings.warn(f\"enable_nested_tensor is True, but self.use_nested_tensor is False because {why_not_sparsity_fast_path}\")\n"
     ]
    },
    {
     "name": "stdout",
     "output_type": "stream",
     "text": [
      "Epoch 1/10 - Loss: 14.9294\n",
      "Epoch 2/10 - Loss: 10.6968\n",
      "Epoch 3/10 - Loss: 7.6822\n",
      "Epoch 4/10 - Loss: 5.6176\n",
      "Epoch 5/10 - Loss: 4.2614\n",
      "Epoch 6/10 - Loss: 3.3946\n",
      "Epoch 7/10 - Loss: 2.8592\n",
      "Epoch 8/10 - Loss: 2.5094\n",
      "Epoch 9/10 - Loss: 2.2844\n",
      "Epoch 10/10 - Loss: 2.1489\n",
      "Validation MSE: 24.7943\n",
      "Probe device: cuda:0\n",
      "Transformer device: cuda:0\n"
     ]
    },
    {
     "name": "stderr",
     "output_type": "stream",
     "text": [
      "/home/wojciech/anaconda3/envs/TFTS/lib/python3.10/site-packages/torch/nn/modules/transformer.py:307: UserWarning: enable_nested_tensor is True, but self.use_nested_tensor is False because encoder_layer.self_attn.batch_first was not True(use batch_first for better inference performance)\n",
      "  warnings.warn(f\"enable_nested_tensor is True, but self.use_nested_tensor is False because {why_not_sparsity_fast_path}\")\n"
     ]
    },
    {
     "name": "stdout",
     "output_type": "stream",
     "text": [
      "Epoch 1/10 - Loss: 15.6448\n",
      "Epoch 2/10 - Loss: 11.3255\n",
      "Epoch 3/10 - Loss: 8.2003\n",
      "Epoch 4/10 - Loss: 6.0535\n",
      "Epoch 5/10 - Loss: 4.5887\n",
      "Epoch 6/10 - Loss: 3.6558\n",
      "Epoch 7/10 - Loss: 3.0778\n",
      "Epoch 8/10 - Loss: 2.6954\n",
      "Epoch 9/10 - Loss: 2.4606\n",
      "Epoch 10/10 - Loss: 2.3035\n",
      "Validation MSE: 38.7318\n",
      "Probe device: cuda:0\n",
      "Transformer device: cuda:0\n"
     ]
    },
    {
     "name": "stderr",
     "output_type": "stream",
     "text": [
      "/home/wojciech/anaconda3/envs/TFTS/lib/python3.10/site-packages/torch/nn/modules/transformer.py:307: UserWarning: enable_nested_tensor is True, but self.use_nested_tensor is False because encoder_layer.self_attn.batch_first was not True(use batch_first for better inference performance)\n",
      "  warnings.warn(f\"enable_nested_tensor is True, but self.use_nested_tensor is False because {why_not_sparsity_fast_path}\")\n"
     ]
    },
    {
     "name": "stdout",
     "output_type": "stream",
     "text": [
      "Epoch 1/10 - Loss: 14.6005\n",
      "Epoch 2/10 - Loss: 10.5007\n",
      "Epoch 3/10 - Loss: 7.6096\n",
      "Epoch 4/10 - Loss: 5.6466\n",
      "Epoch 5/10 - Loss: 4.3541\n",
      "Epoch 6/10 - Loss: 3.5314\n",
      "Epoch 7/10 - Loss: 3.0304\n",
      "Epoch 8/10 - Loss: 2.7298\n",
      "Epoch 9/10 - Loss: 2.5111\n",
      "Epoch 10/10 - Loss: 2.3775\n",
      "Validation MSE: 44.8752\n",
      "Probe device: cuda:0\n",
      "Transformer device: cuda:0\n"
     ]
    },
    {
     "name": "stderr",
     "output_type": "stream",
     "text": [
      "/home/wojciech/anaconda3/envs/TFTS/lib/python3.10/site-packages/torch/nn/modules/transformer.py:307: UserWarning: enable_nested_tensor is True, but self.use_nested_tensor is False because encoder_layer.self_attn.batch_first was not True(use batch_first for better inference performance)\n",
      "  warnings.warn(f\"enable_nested_tensor is True, but self.use_nested_tensor is False because {why_not_sparsity_fast_path}\")\n"
     ]
    },
    {
     "name": "stdout",
     "output_type": "stream",
     "text": [
      "Epoch 1/10 - Loss: 14.9845\n",
      "Epoch 2/10 - Loss: 10.7336\n",
      "Epoch 3/10 - Loss: 7.7064\n",
      "Epoch 4/10 - Loss: 5.6197\n",
      "Epoch 5/10 - Loss: 4.2309\n",
      "Epoch 6/10 - Loss: 3.3470\n",
      "Epoch 7/10 - Loss: 2.8135\n",
      "Epoch 8/10 - Loss: 2.4688\n",
      "Epoch 9/10 - Loss: 2.2468\n",
      "Epoch 10/10 - Loss: 2.1154\n",
      "Validation MSE: 59.2284\n",
      "Probe device: cuda:0\n",
      "Transformer device: cuda:0\n"
     ]
    },
    {
     "name": "stderr",
     "output_type": "stream",
     "text": [
      "/home/wojciech/anaconda3/envs/TFTS/lib/python3.10/site-packages/torch/nn/modules/transformer.py:307: UserWarning: enable_nested_tensor is True, but self.use_nested_tensor is False because encoder_layer.self_attn.batch_first was not True(use batch_first for better inference performance)\n",
      "  warnings.warn(f\"enable_nested_tensor is True, but self.use_nested_tensor is False because {why_not_sparsity_fast_path}\")\n"
     ]
    },
    {
     "name": "stdout",
     "output_type": "stream",
     "text": [
      "Epoch 1/10 - Loss: 15.8449\n",
      "Epoch 2/10 - Loss: 11.4121\n",
      "Epoch 3/10 - Loss: 8.2184\n",
      "Epoch 4/10 - Loss: 5.9861\n",
      "Epoch 5/10 - Loss: 4.4729\n",
      "Epoch 6/10 - Loss: 3.5085\n",
      "Epoch 7/10 - Loss: 2.8862\n",
      "Epoch 8/10 - Loss: 2.5193\n",
      "Epoch 9/10 - Loss: 2.2990\n",
      "Epoch 10/10 - Loss: 2.0920\n",
      "Validation MSE: 69.2932\n"
     ]
    },
    {
     "name": "stderr",
     "output_type": "stream",
     "text": [
      "/home/wojciech/anaconda3/envs/TFTS/lib/python3.10/site-packages/torch/nn/modules/transformer.py:307: UserWarning: enable_nested_tensor is True, but self.use_nested_tensor is False because encoder_layer.self_attn.batch_first was not True(use batch_first for better inference performance)\n",
      "  warnings.warn(f\"enable_nested_tensor is True, but self.use_nested_tensor is False because {why_not_sparsity_fast_path}\")\n"
     ]
    },
    {
     "name": "stdout",
     "output_type": "stream",
     "text": [
      "Probe device: cuda:0\n",
      "Transformer device: cuda:0\n",
      "Epoch 1/10 - Loss: 15.3738\n",
      "Epoch 2/10 - Loss: 11.0725\n",
      "Epoch 3/10 - Loss: 8.0070\n",
      "Epoch 4/10 - Loss: 5.8841\n",
      "Epoch 5/10 - Loss: 4.4683\n",
      "Epoch 6/10 - Loss: 3.5729\n",
      "Epoch 7/10 - Loss: 2.9782\n",
      "Epoch 8/10 - Loss: 2.6435\n",
      "Epoch 9/10 - Loss: 2.4070\n",
      "Epoch 10/10 - Loss: 2.2509\n",
      "Validation MSE: 85.4758\n"
     ]
    },
    {
     "name": "stderr",
     "output_type": "stream",
     "text": [
      "/home/wojciech/anaconda3/envs/TFTS/lib/python3.10/site-packages/torch/nn/modules/transformer.py:307: UserWarning: enable_nested_tensor is True, but self.use_nested_tensor is False because encoder_layer.self_attn.batch_first was not True(use batch_first for better inference performance)\n",
      "  warnings.warn(f\"enable_nested_tensor is True, but self.use_nested_tensor is False because {why_not_sparsity_fast_path}\")\n"
     ]
    },
    {
     "name": "stdout",
     "output_type": "stream",
     "text": [
      "Probe device: cuda:0\n",
      "Transformer device: cuda:0\n",
      "Epoch 1/10 - Loss: 14.3486\n",
      "Epoch 2/10 - Loss: 10.2115\n",
      "Epoch 3/10 - Loss: 7.2965\n",
      "Epoch 4/10 - Loss: 5.3160\n",
      "Epoch 5/10 - Loss: 4.0194\n",
      "Epoch 6/10 - Loss: 3.2101\n",
      "Epoch 7/10 - Loss: 2.7195\n",
      "Epoch 8/10 - Loss: 2.4072\n",
      "Epoch 9/10 - Loss: 2.1799\n",
      "Epoch 10/10 - Loss: 2.0422\n",
      "Validation MSE: 101.9955\n"
     ]
    },
    {
     "name": "stderr",
     "output_type": "stream",
     "text": [
      "/home/wojciech/anaconda3/envs/TFTS/lib/python3.10/site-packages/torch/nn/modules/transformer.py:307: UserWarning: enable_nested_tensor is True, but self.use_nested_tensor is False because encoder_layer.self_attn.batch_first was not True(use batch_first for better inference performance)\n",
      "  warnings.warn(f\"enable_nested_tensor is True, but self.use_nested_tensor is False because {why_not_sparsity_fast_path}\")\n"
     ]
    },
    {
     "name": "stdout",
     "output_type": "stream",
     "text": [
      "Probe device: cuda:0\n",
      "Transformer device: cuda:0\n",
      "Epoch 1/10 - Loss: 14.5719\n",
      "Epoch 2/10 - Loss: 10.3649\n",
      "Epoch 3/10 - Loss: 7.4295\n",
      "Epoch 4/10 - Loss: 5.4296\n",
      "Epoch 5/10 - Loss: 4.1326\n",
      "Epoch 6/10 - Loss: 3.3059\n",
      "Epoch 7/10 - Loss: 2.8024\n",
      "Epoch 8/10 - Loss: 2.4765\n",
      "Epoch 9/10 - Loss: 2.2855\n",
      "Epoch 10/10 - Loss: 2.1537\n",
      "Validation MSE: 126.9127\n",
      "Probe device: cuda:0\n",
      "Transformer device: cuda:0\n"
     ]
    },
    {
     "name": "stderr",
     "output_type": "stream",
     "text": [
      "/home/wojciech/anaconda3/envs/TFTS/lib/python3.10/site-packages/torch/nn/modules/transformer.py:307: UserWarning: enable_nested_tensor is True, but self.use_nested_tensor is False because encoder_layer.self_attn.batch_first was not True(use batch_first for better inference performance)\n",
      "  warnings.warn(f\"enable_nested_tensor is True, but self.use_nested_tensor is False because {why_not_sparsity_fast_path}\")\n"
     ]
    },
    {
     "name": "stdout",
     "output_type": "stream",
     "text": [
      "Epoch 1/10 - Loss: 14.2178\n",
      "Epoch 2/10 - Loss: 10.1687\n",
      "Epoch 3/10 - Loss: 7.3455\n",
      "Epoch 4/10 - Loss: 5.4394\n",
      "Epoch 5/10 - Loss: 4.2194\n",
      "Epoch 6/10 - Loss: 3.4431\n",
      "Epoch 7/10 - Loss: 2.9440\n",
      "Epoch 8/10 - Loss: 2.6240\n",
      "Epoch 9/10 - Loss: 2.4371\n",
      "Epoch 10/10 - Loss: 2.2833\n",
      "Validation MSE: 117.9013\n"
     ]
    },
    {
     "name": "stderr",
     "output_type": "stream",
     "text": [
      "/home/wojciech/anaconda3/envs/TFTS/lib/python3.10/site-packages/torch/nn/modules/transformer.py:307: UserWarning: enable_nested_tensor is True, but self.use_nested_tensor is False because encoder_layer.self_attn.batch_first was not True(use batch_first for better inference performance)\n",
      "  warnings.warn(f\"enable_nested_tensor is True, but self.use_nested_tensor is False because {why_not_sparsity_fast_path}\")\n"
     ]
    },
    {
     "name": "stdout",
     "output_type": "stream",
     "text": [
      "Probe device: cuda:0\n",
      "Transformer device: cuda:0\n",
      "Epoch 1/10 - Loss: 15.0639\n",
      "Epoch 2/10 - Loss: 10.8849\n",
      "Epoch 3/10 - Loss: 7.9092\n",
      "Epoch 4/10 - Loss: 5.8940\n",
      "Epoch 5/10 - Loss: 4.5635\n",
      "Epoch 6/10 - Loss: 3.6915\n",
      "Epoch 7/10 - Loss: 3.1812\n",
      "Epoch 8/10 - Loss: 2.8438\n",
      "Epoch 9/10 - Loss: 2.6106\n",
      "Epoch 10/10 - Loss: 2.4570\n",
      "Validation MSE: 175.1407\n"
     ]
    },
    {
     "name": "stderr",
     "output_type": "stream",
     "text": [
      "/home/wojciech/anaconda3/envs/TFTS/lib/python3.10/site-packages/torch/nn/modules/transformer.py:307: UserWarning: enable_nested_tensor is True, but self.use_nested_tensor is False because encoder_layer.self_attn.batch_first was not True(use batch_first for better inference performance)\n",
      "  warnings.warn(f\"enable_nested_tensor is True, but self.use_nested_tensor is False because {why_not_sparsity_fast_path}\")\n"
     ]
    },
    {
     "name": "stdout",
     "output_type": "stream",
     "text": [
      "Probe device: cuda:0\n",
      "Transformer device: cuda:0\n",
      "Epoch 1/10 - Loss: 14.7366\n",
      "Epoch 2/10 - Loss: 10.5957\n",
      "Epoch 3/10 - Loss: 7.6563\n",
      "Epoch 4/10 - Loss: 5.6291\n",
      "Epoch 5/10 - Loss: 4.2939\n",
      "Epoch 6/10 - Loss: 3.4720\n",
      "Epoch 7/10 - Loss: 2.9402\n",
      "Epoch 8/10 - Loss: 2.6108\n",
      "Epoch 9/10 - Loss: 2.4001\n",
      "Epoch 10/10 - Loss: 2.2234\n",
      "Validation MSE: 186.6903\n"
     ]
    },
    {
     "name": "stderr",
     "output_type": "stream",
     "text": [
      "/home/wojciech/anaconda3/envs/TFTS/lib/python3.10/site-packages/torch/nn/modules/transformer.py:307: UserWarning: enable_nested_tensor is True, but self.use_nested_tensor is False because encoder_layer.self_attn.batch_first was not True(use batch_first for better inference performance)\n",
      "  warnings.warn(f\"enable_nested_tensor is True, but self.use_nested_tensor is False because {why_not_sparsity_fast_path}\")\n"
     ]
    },
    {
     "name": "stdout",
     "output_type": "stream",
     "text": [
      "Probe device: cuda:0\n",
      "Transformer device: cuda:0\n",
      "Epoch 1/10 - Loss: 14.2151\n",
      "Epoch 2/10 - Loss: 10.1429\n",
      "Epoch 3/10 - Loss: 7.2616\n",
      "Epoch 4/10 - Loss: 5.3167\n",
      "Epoch 5/10 - Loss: 4.0395\n",
      "Epoch 6/10 - Loss: 3.2402\n",
      "Epoch 7/10 - Loss: 2.7512\n",
      "Epoch 8/10 - Loss: 2.4196\n",
      "Epoch 9/10 - Loss: 2.2371\n",
      "Epoch 10/10 - Loss: 2.0997\n",
      "Validation MSE: 180.3197\n"
     ]
    },
    {
     "name": "stderr",
     "output_type": "stream",
     "text": [
      "/home/wojciech/anaconda3/envs/TFTS/lib/python3.10/site-packages/torch/nn/modules/transformer.py:307: UserWarning: enable_nested_tensor is True, but self.use_nested_tensor is False because encoder_layer.self_attn.batch_first was not True(use batch_first for better inference performance)\n",
      "  warnings.warn(f\"enable_nested_tensor is True, but self.use_nested_tensor is False because {why_not_sparsity_fast_path}\")\n"
     ]
    },
    {
     "name": "stdout",
     "output_type": "stream",
     "text": [
      "Probe device: cuda:0\n",
      "Transformer device: cuda:0\n",
      "Epoch 1/10 - Loss: 13.7992\n",
      "Epoch 2/10 - Loss: 9.7530\n",
      "Epoch 3/10 - Loss: 6.9219\n",
      "Epoch 4/10 - Loss: 5.0375\n",
      "Epoch 5/10 - Loss: 3.8247\n",
      "Epoch 6/10 - Loss: 3.0624\n",
      "Epoch 7/10 - Loss: 2.5769\n",
      "Epoch 8/10 - Loss: 2.3105\n",
      "Epoch 9/10 - Loss: 2.1270\n",
      "Epoch 10/10 - Loss: 1.9689\n",
      "Validation MSE: 223.3820\n"
     ]
    },
    {
     "name": "stderr",
     "output_type": "stream",
     "text": [
      "/home/wojciech/anaconda3/envs/TFTS/lib/python3.10/site-packages/torch/nn/modules/transformer.py:307: UserWarning: enable_nested_tensor is True, but self.use_nested_tensor is False because encoder_layer.self_attn.batch_first was not True(use batch_first for better inference performance)\n",
      "  warnings.warn(f\"enable_nested_tensor is True, but self.use_nested_tensor is False because {why_not_sparsity_fast_path}\")\n"
     ]
    },
    {
     "name": "stdout",
     "output_type": "stream",
     "text": [
      "Probe device: cuda:0\n",
      "Transformer device: cuda:0\n",
      "Epoch 1/10 - Loss: 15.4739\n",
      "Epoch 2/10 - Loss: 11.1936\n",
      "Epoch 3/10 - Loss: 8.1260\n",
      "Epoch 4/10 - Loss: 6.0115\n",
      "Epoch 5/10 - Loss: 4.6198\n",
      "Epoch 6/10 - Loss: 3.7110\n",
      "Epoch 7/10 - Loss: 3.1138\n",
      "Epoch 8/10 - Loss: 2.7533\n",
      "Epoch 9/10 - Loss: 2.4964\n",
      "Epoch 10/10 - Loss: 2.3581\n",
      "Validation MSE: 226.2532\n"
     ]
    }
   ],
   "execution_count": 15
  },
  {
   "metadata": {
    "ExecuteTime": {
     "end_time": "2024-11-07T20:27:48.263698Z",
     "start_time": "2024-11-07T20:27:48.256558Z"
    }
   },
   "cell_type": "code",
   "source": "import numpy as np",
   "id": "83a0e91aa89aa05b",
   "outputs": [],
   "execution_count": 19
  },
  {
   "metadata": {
    "ExecuteTime": {
     "end_time": "2024-11-07T20:29:57.696456Z",
     "start_time": "2024-11-07T20:29:57.285566Z"
    }
   },
   "cell_type": "code",
   "source": [
    "plt.plot(np.array(range(20)) * 2, means_scores, label=\"Process mean prediction r^2\")\n",
    "plt.plot(np.array(range(20)) * 2, std_scores, label=\"Process std prediction r^2\")\n",
    "plt.xlabel(\"Maximal absolute drift scale\")\n",
    "plt.ylabel(\"R squared on test set\")\n",
    "plt.legend()"
   ],
   "id": "746831c1c57f48a6",
   "outputs": [
    {
     "data": {
      "text/plain": [
       "<matplotlib.legend.Legend at 0x7b321d9ea140>"
      ]
     },
     "execution_count": 24,
     "metadata": {},
     "output_type": "execute_result"
    },
    {
     "data": {
      "text/plain": [
       "<Figure size 640x480 with 1 Axes>"
      ],
      "image/png": "[encoded data removed]"
     },
     "metadata": {},
     "output_type": "display_data"
    }
   ],
   "execution_count": 24
  },
  {
   "metadata": {},
   "cell_type": "code",
   "outputs": [],
   "execution_count": null,
   "source": "",
   "id": "d7f37f0611db6f5b"
  }
 ],
 "metadata": {
  "kernelspec": {
   "display_name": "Python 3",
   "language": "python",
   "name": "python3"
  },
  "language_info": {
   "codemirror_mode": {
    "name": "ipython",
    "version": 2
   },
   "file_extension": ".py",
   "mimetype": "text/x-python",
   "name": "python",
   "nbconvert_exporter": "python",
   "pygments_lexer": "ipython2",
   "version": "2.7.6"
  }
 },
 "nbformat": 4,
 "nbformat_minor": 5
}
